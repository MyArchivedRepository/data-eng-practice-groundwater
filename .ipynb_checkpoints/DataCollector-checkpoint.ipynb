{
 "cells": [
  {
   "cell_type": "code",
   "execution_count": 2,
   "metadata": {},
   "outputs": [],
   "source": [
    "import pandas as pd\n",
    "import requests\n",
    "from bs4 import BeautifulSoup \n",
    "#https://medium.com/@minatonamikazerak/python-%E0%B8%97%E0%B8%B3-web-scraping-web-crawler-d2d00244ac94\n",
    "#https://bigdata.go.th/big-data-101/data-scraping-part-2/\n",
    "import os\n",
    "cwd = os.getcwd()\n",
    "raw_data_path = f'{cwd}\\\\raw_data\\\\'\n",
    "\n",
    "import glob\n",
    "\n",
    "def get_table_content(i_page):\n",
    "    url = f\"http://app.dgr.go.th/newpasutara/xml/Krabi.files/map/mgmap_v2.php?ProvD={i_page}&AmnD=&TumD=\"\n",
    "    r = requests.get(url)\n",
    "    r.encoding = \"utf-8\"\n",
    "    \n",
    "    soup = BeautifulSoup(r.text, 'lxml', from_encoding='utf-8')\n",
    "    table = soup.find('center')\n",
    "    rows = table.find_all('tr')\n",
    "    #province_div = soup.find('div',id=\"content\")\n",
    "    #province_div_split = province_div.text.split()\n",
    "    #province = province_div_split[2]\n",
    "    \n",
    "    \n",
    "    ls = [] # list to store text of all elements in all the rows.\n",
    "    for i, row in enumerate(rows):\n",
    "        # Each element is enclosed by either <th> or <td> tag.\n",
    "        if i==0:\n",
    "            elements = row.find_all('th')\n",
    "        else:\n",
    "            elements = row.find_all('td')\n",
    "        \n",
    "        # list to store text of all the elements in this row:\n",
    "        ls_elements_in_row = []\n",
    "        for element in elements:\n",
    "            text = element.text\n",
    "            ls_elements_in_row += [text]\n",
    "        \n",
    "        ls += [ls_elements_in_row]\n",
    "    \n",
    "    df = pd.DataFrame(ls[1::])\n",
    "    df.columns = ls[0]\n",
    "    df.iloc[0:-1].to_csv(f\"{raw_data_path}gw_map_data_{i_page}.csv\",index = False,encoding='utf-8-sig')\n",
    "    #df.iloc[0:-1].to_csv(f\"{raw_data_path}{province}.csv\")\n",
    "    #df['จังหวัด'] = province"
   ]
  },
  {
   "cell_type": "code",
   "execution_count": 90,
   "metadata": {},
   "outputs": [],
   "source": [
    "for i in range(1,78):\n",
    "    get_table_content(i)"
   ]
  },
  {
   "cell_type": "code",
   "execution_count": 58,
   "metadata": {},
   "outputs": [],
   "source": [
    "extension = 'csv'\n",
    "all_filenames = [i for i in glob.glob(f'{raw_data_path}gw_map_data_*.{extension}')]\n",
    "#combine all files in the list\n",
    "combined = pd.concat([pd.read_csv(f) for f in all_filenames ])\n",
    "#export to csv\n",
    "combined.drop(columns=combined.columns[0]).to_csv( f'{raw_data_path}gw_map_data_combined.csv', index=False, encoding='utf-8-sig')\n"
   ]
  },
  {
   "cell_type": "code",
   "execution_count": null,
   "metadata": {},
   "outputs": [],
   "source": []
  },
  {
   "cell_type": "code",
   "execution_count": null,
   "metadata": {},
   "outputs": [],
   "source": []
  },
  {
   "cell_type": "code",
   "execution_count": 92,
   "metadata": {},
   "outputs": [],
   "source": [
    "def get_data(i_pages):\n",
    "    url = f\"http://app.dgr.go.th/newpasutara/xml/Krabi.files/show_xls.php?ddlGeo1={i_pages}&ddlProvince1=&ddlAmphur1=\"\n",
    "    data = pd.read_html(url)\n",
    "    pd.DataFrame(data[0]).to_csv(f\"{raw_data_path}gw_general_data_{i_pages}.csv\", index=False, encoding='utf-8-sig')"
   ]
  },
  {
   "cell_type": "code",
   "execution_count": 93,
   "metadata": {},
   "outputs": [],
   "source": [
    "for i in range(1,78):\n",
    "    get_data(i)\n"
   ]
  },
  {
   "cell_type": "code",
   "execution_count": 59,
   "metadata": {},
   "outputs": [
    {
     "name": "stderr",
     "output_type": "stream",
     "text": [
      "C:\\Users\\Aeolus\\anaconda3\\lib\\site-packages\\IPython\\core\\interactiveshell.py:3263: DtypeWarning: Columns (0) have mixed types.Specify dtype option on import or set low_memory=False.\n",
      "  if (await self.run_code(code, result,  async_=asy)):\n"
     ]
    }
   ],
   "source": [
    "extension = 'csv'\n",
    "all_filenames = [i for i in glob.glob(f'{raw_data_path}gw_general_data_*.{extension}')]\n",
    "#combine all files in the list\n",
    "combined = pd.concat([pd.read_csv(f) for f in all_filenames ])\n",
    "#export to csv\n",
    "combined.drop(columns=combined.columns[0]).to_csv( f'{raw_data_path}gw_general_data_combined.csv', index=False, encoding='utf-8-sig')\n"
   ]
  },
  {
   "cell_type": "code",
   "execution_count": 65,
   "metadata": {},
   "outputs": [],
   "source": [
    "data = pd.read_csv(f\"{raw_data_path}gw_map_data_combined.csv\")"
   ]
  },
  {
   "cell_type": "code",
   "execution_count": 66,
   "metadata": {},
   "outputs": [
    {
     "data": {
      "text/html": [
       "<div>\n",
       "<style scoped>\n",
       "    .dataframe tbody tr th:only-of-type {\n",
       "        vertical-align: middle;\n",
       "    }\n",
       "\n",
       "    .dataframe tbody tr th {\n",
       "        vertical-align: top;\n",
       "    }\n",
       "\n",
       "    .dataframe thead th {\n",
       "        text-align: right;\n",
       "    }\n",
       "</style>\n",
       "<table border=\"1\" class=\"dataframe\">\n",
       "  <thead>\n",
       "    <tr style=\"text-align: right;\">\n",
       "      <th></th>\n",
       "      <th>รหัสบ่อ</th>\n",
       "      <th>UTM-N</th>\n",
       "      <th>UTM-E</th>\n",
       "      <th>Zone</th>\n",
       "      <th>อำเภอ</th>\n",
       "      <th>ตำบล</th>\n",
       "      <th>ปริมาณน้ำ(m³/hr.)</th>\n",
       "      <th>ความลึกพัฒนา(m)</th>\n",
       "    </tr>\n",
       "  </thead>\n",
       "  <tbody>\n",
       "    <tr>\n",
       "      <th>0</th>\n",
       "      <td>BKK4</td>\n",
       "      <td>1520035</td>\n",
       "      <td>678848</td>\n",
       "      <td>47</td>\n",
       "      <td>บางกะปิ</td>\n",
       "      <td>หัวหมาก</td>\n",
       "      <td>20.00</td>\n",
       "      <td>196.00</td>\n",
       "    </tr>\n",
       "    <tr>\n",
       "      <th>1</th>\n",
       "      <td>BKK12</td>\n",
       "      <td>1520038</td>\n",
       "      <td>678841</td>\n",
       "      <td>47</td>\n",
       "      <td>บางกะปิ</td>\n",
       "      <td>หัวหมาก</td>\n",
       "      <td>15.00</td>\n",
       "      <td>164.00</td>\n",
       "    </tr>\n",
       "    <tr>\n",
       "      <th>2</th>\n",
       "      <td>5401BK01</td>\n",
       "      <td>1518481</td>\n",
       "      <td>666052</td>\n",
       "      <td>47</td>\n",
       "      <td>ปทุมวัน</td>\n",
       "      <td>ปทุมวัน</td>\n",
       "      <td>50.00</td>\n",
       "      <td>348.00</td>\n",
       "    </tr>\n",
       "    <tr>\n",
       "      <th>3</th>\n",
       "      <td>PW24947</td>\n",
       "      <td>1531456</td>\n",
       "      <td>705096</td>\n",
       "      <td>47</td>\n",
       "      <td>หนองจอก</td>\n",
       "      <td>กระทุ่มราย</td>\n",
       "      <td>10.00</td>\n",
       "      <td>120.39</td>\n",
       "    </tr>\n",
       "    <tr>\n",
       "      <th>4</th>\n",
       "      <td>PW22640</td>\n",
       "      <td>1532968</td>\n",
       "      <td>699867</td>\n",
       "      <td>47</td>\n",
       "      <td>หนองจอก</td>\n",
       "      <td>หนองจอก</td>\n",
       "      <td>6.00</td>\n",
       "      <td>174.58</td>\n",
       "    </tr>\n",
       "    <tr>\n",
       "      <th>...</th>\n",
       "      <td>...</td>\n",
       "      <td>...</td>\n",
       "      <td>...</td>\n",
       "      <td>...</td>\n",
       "      <td>...</td>\n",
       "      <td>...</td>\n",
       "      <td>...</td>\n",
       "      <td>...</td>\n",
       "    </tr>\n",
       "    <tr>\n",
       "      <th>214839</th>\n",
       "      <td>MC37</td>\n",
       "      <td>1652982</td>\n",
       "      <td>601355</td>\n",
       "      <td>47</td>\n",
       "      <td>เนินขาม</td>\n",
       "      <td>เนินขาม</td>\n",
       "      <td>2.32</td>\n",
       "      <td>36.00</td>\n",
       "    </tr>\n",
       "    <tr>\n",
       "      <th>214840</th>\n",
       "      <td>G124</td>\n",
       "      <td>1680591</td>\n",
       "      <td>622284</td>\n",
       "      <td>47</td>\n",
       "      <td>เมืองชัยนาท</td>\n",
       "      <td>เทศบาลเมืองชัยนาท</td>\n",
       "      <td>75.49</td>\n",
       "      <td>39.00</td>\n",
       "    </tr>\n",
       "    <tr>\n",
       "      <th>214841</th>\n",
       "      <td>MP237</td>\n",
       "      <td>1679614</td>\n",
       "      <td>620929</td>\n",
       "      <td>47</td>\n",
       "      <td>เมืองชัยนาท</td>\n",
       "      <td>เทศบาลเมืองชัยนาท</td>\n",
       "      <td>24.01</td>\n",
       "      <td>39.00</td>\n",
       "    </tr>\n",
       "    <tr>\n",
       "      <th>214842</th>\n",
       "      <td>TA367</td>\n",
       "      <td>1679785</td>\n",
       "      <td>621301</td>\n",
       "      <td>47</td>\n",
       "      <td>เมืองชัยนาท</td>\n",
       "      <td>เทศบาลเมืองชัยนาท</td>\n",
       "      <td>9.00</td>\n",
       "      <td>54.00</td>\n",
       "    </tr>\n",
       "    <tr>\n",
       "      <th>214843</th>\n",
       "      <td>PW24829</td>\n",
       "      <td>1679891</td>\n",
       "      <td>620718</td>\n",
       "      <td>47</td>\n",
       "      <td>เมืองชัยนาท</td>\n",
       "      <td>เทศบาลเมืองชัยนาท</td>\n",
       "      <td>25.00</td>\n",
       "      <td>36.90</td>\n",
       "    </tr>\n",
       "  </tbody>\n",
       "</table>\n",
       "<p>214844 rows × 8 columns</p>\n",
       "</div>"
      ],
      "text/plain": [
       "          รหัสบ่อ     UTM-N    UTM-E Zone                           อำเภอ  \\\n",
       "0           BKK4   1520035   678848   47   บางกะปิ                          \n",
       "1          BKK12   1520038   678841   47   บางกะปิ                          \n",
       "2       5401BK01   1518481   666052   47   ปทุมวัน                          \n",
       "3        PW24947   1531456   705096   47   หนองจอก                          \n",
       "4        PW22640   1532968   699867   47   หนองจอก                          \n",
       "...           ...       ...      ...  ...                             ...   \n",
       "214839      MC37   1652982   601355   47                          เนินขาม   \n",
       "214840      G124   1680591   622284   47   เมืองชัยนาท                      \n",
       "214841     MP237   1679614   620929   47   เมืองชัยนาท                      \n",
       "214842     TA367   1679785   621301   47   เมืองชัยนาท                      \n",
       "214843   PW24829   1679891   620718   47   เมืองชัยนาท                      \n",
       "\n",
       "                                  ตำบล  ปริมาณน้ำ(m³/hr.)  ความลึกพัฒนา(m)  \n",
       "0       หัวหมาก                                     20.00           196.00  \n",
       "1       หัวหมาก                                     15.00           164.00  \n",
       "2       ปทุมวัน                                     50.00           348.00  \n",
       "3       กระทุ่มราย                                  10.00           120.39  \n",
       "4       หนองจอก                                      6.00           174.58  \n",
       "...                                ...                ...              ...  \n",
       "214839  เนินขาม                                      2.32            36.00  \n",
       "214840               เทศบาลเมืองชัยนาท              75.49            39.00  \n",
       "214841               เทศบาลเมืองชัยนาท              24.01            39.00  \n",
       "214842               เทศบาลเมืองชัยนาท               9.00            54.00  \n",
       "214843               เทศบาลเมืองชัยนาท              25.00            36.90  \n",
       "\n",
       "[214844 rows x 8 columns]"
      ]
     },
     "execution_count": 66,
     "metadata": {},
     "output_type": "execute_result"
    }
   ],
   "source": [
    "data"
   ]
  },
  {
   "cell_type": "code",
   "execution_count": null,
   "metadata": {},
   "outputs": [],
   "source": []
  },
  {
   "cell_type": "code",
   "execution_count": null,
   "metadata": {},
   "outputs": [],
   "source": []
  },
  {
   "cell_type": "code",
   "execution_count": null,
   "metadata": {},
   "outputs": [],
   "source": []
  },
  {
   "cell_type": "code",
   "execution_count": null,
   "metadata": {},
   "outputs": [],
   "source": [
    "\n"
   ]
  },
  {
   "cell_type": "code",
   "execution_count": null,
   "metadata": {},
   "outputs": [],
   "source": []
  },
  {
   "cell_type": "code",
   "execution_count": null,
   "metadata": {},
   "outputs": [],
   "source": []
  },
  {
   "cell_type": "code",
   "execution_count": null,
   "metadata": {},
   "outputs": [],
   "source": []
  },
  {
   "cell_type": "code",
   "execution_count": null,
   "metadata": {},
   "outputs": [],
   "source": []
  },
  {
   "cell_type": "code",
   "execution_count": null,
   "metadata": {},
   "outputs": [],
   "source": []
  },
  {
   "cell_type": "code",
   "execution_count": null,
   "metadata": {},
   "outputs": [],
   "source": []
  },
  {
   "cell_type": "code",
   "execution_count": null,
   "metadata": {},
   "outputs": [],
   "source": []
  },
  {
   "cell_type": "code",
   "execution_count": null,
   "metadata": {},
   "outputs": [],
   "source": []
  }
 ],
 "metadata": {
  "kernelspec": {
   "display_name": "Python 3",
   "language": "python",
   "name": "python3"
  },
  "language_info": {
   "codemirror_mode": {
    "name": "ipython",
    "version": 3
   },
   "file_extension": ".py",
   "mimetype": "text/x-python",
   "name": "python",
   "nbconvert_exporter": "python",
   "pygments_lexer": "ipython3",
   "version": "3.8.3"
  }
 },
 "nbformat": 4,
 "nbformat_minor": 4
}
